{
 "cells": [
  {
   "cell_type": "markdown",
   "id": "fc0854ed",
   "metadata": {},
   "source": [
    "# Simulate Transaction Data"
   ]
  },
  {
   "cell_type": "markdown",
   "id": "ed3316e4",
   "metadata": {},
   "source": [
    "## Objective\n",
    "- Simulate 10 fake transactions, each containing 2–5 items, selected randomly from a pool of at least 8 unique grocery items.\n",
    "- This simulates shopping basket data commonly used in market basket analysis.\n",
    "\n"
   ]
  },
  {
   "cell_type": "code",
   "execution_count": 1,
   "id": "3afb119f",
   "metadata": {},
   "outputs": [
    {
     "name": "stdout",
     "output_type": "stream",
     "text": [
      "Transaction 1: ['Bread', 'Apples', 'Cheese', 'Milk', 'Butter']\n",
      "Transaction 2: ['Eggs', 'Bananas', 'Cheese', 'Bread', 'Butter']\n",
      "Transaction 3: ['Cereal', 'Cheese', 'Eggs', 'Milk']\n",
      "Transaction 4: ['Butter', 'Milk']\n",
      "Transaction 5: ['Eggs', 'Bread']\n",
      "Transaction 6: ['Eggs', 'Cheese', 'Bananas']\n",
      "Transaction 7: ['Apples', 'Cereal']\n",
      "Transaction 8: ['Bananas', 'Eggs', 'Butter', 'Milk']\n",
      "Transaction 9: ['Milk', 'Butter', 'Bread', 'Apples']\n",
      "Transaction 10: ['Bananas', 'Butter', 'Milk', 'Apples']\n"
     ]
    }
   ],
   "source": [
    "import random\n",
    "import pandas as pd\n",
    "\n",
    "# Define 8 unique grocery items\n",
    "items = ['Bread', 'Milk', 'Eggs', 'Cheese', 'Butter', 'Apples', 'Bananas', 'Cereal']\n",
    "\n",
    "# Simulate 10 transactions with 2 to 5 random items each\n",
    "transactions = []\n",
    "for i in range(10):\n",
    "    transaction = random.sample(items, random.randint(2, 5))\n",
    "    transactions.append(transaction)\n",
    "\n",
    "# Display the transactions\n",
    "for idx, t in enumerate(transactions, 1):\n",
    "    print(f\"Transaction {idx}: {t}\")\n"
   ]
  },
  {
   "cell_type": "markdown",
   "id": "8e077a86",
   "metadata": {},
   "source": [
    "###  Explanation:\n",
    "- We created a pool of 8 grocery items.\n",
    "- Each transaction consists of 2–5 randomly chosen items using `random.sample`.\n",
    "- We generated 10 such transactions and printed them for review.\n",
    "\n",
    "This forms the base dataset for applying association rule mining using the Apriori algorithm in the next steps.\n"
   ]
  },
  {
   "cell_type": "code",
   "execution_count": null,
   "id": "218e69eb",
   "metadata": {},
   "outputs": [],
   "source": []
  }
 ],
 "metadata": {
  "kernelspec": {
   "display_name": "Python 3",
   "language": "python",
   "name": "python3"
  },
  "language_info": {
   "codemirror_mode": {
    "name": "ipython",
    "version": 3
   },
   "file_extension": ".py",
   "mimetype": "text/x-python",
   "name": "python",
   "nbconvert_exporter": "python",
   "pygments_lexer": "ipython3",
   "version": "3.13.5"
  }
 },
 "nbformat": 4,
 "nbformat_minor": 5
}
